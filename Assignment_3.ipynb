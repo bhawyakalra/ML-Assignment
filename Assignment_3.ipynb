{
 "cells": [
  {
   "cell_type": "code",
   "execution_count": 10,
   "metadata": {},
   "outputs": [
    {
     "name": "stdout",
     "output_type": "stream",
     "text": [
      "0.0303030303030303\n"
     ]
    }
   ],
   "source": [
    "#Question 1\n",
    "def func(a,b,c):\n",
    "    p=((a*b)/c)\n",
    "    return p\n",
    "PA = 11 / 36\n",
    "PB = 6 / 36\n",
    "PAB = 2 / 36\n",
    "y=func(PAB,PB,PA)\n",
    "print(y)\n"
   ]
  },
  {
   "cell_type": "code",
   "execution_count": 11,
   "metadata": {},
   "outputs": [
    {
     "name": "stdout",
     "output_type": "stream",
     "text": [
      "0.5833333333333334\n"
     ]
    }
   ],
   "source": [
    "#Question 2\n",
    "#Bag1=4w1+6b1\n",
    "#Bag2=4w1+3b1\n",
    "pE1=1/2#Probability of choosing Bag1\n",
    "pE2=1/2#Probability of choosing Bag2\n",
    "#A=probability of black balls.\n",
    "pAE1=6/10\n",
    "pAE2=3/7\n",
    "#Using Bayes theorem p(getting the black ball that was drawn from Bag 1)\n",
    "print(pE1*pAE1 / ((pE1*pAE1)+(pE2*pAE2)))"
   ]
  },
  {
   "cell_type": "code",
   "execution_count": 12,
   "metadata": {},
   "outputs": [
    {
     "name": "stdout",
     "output_type": "stream",
     "text": [
      "0.28571428571428575\n"
     ]
    }
   ],
   "source": [
    "#Question 3\n",
    "#E=The man reports six.\n",
    "pS1=1/6 #Probability that four actually occurs.\n",
    "pS2=5/6 #Probability that four doesn't occur.\n",
    "#P(E|S1)= Probability that the man reports four when four has actually occurred = 2/3\n",
    "#P(E|S2)= Probability that the man reports four when four has not occurred = 1-(2/3)=1/3\n",
    "#Using Bayes theorem p(number obtained is actually a four)=p(S1)*p(E|S1)/p(S1)*p(E|S1)+p(E|S2)*p(S2)\n",
    "print((1/6*2/3)/((1/6)*2/3+1/3*5/6))\n"
   ]
  },
  {
   "cell_type": "code",
   "execution_count": null,
   "metadata": {},
   "outputs": [],
   "source": []
  }
 ],
 "metadata": {
  "kernelspec": {
   "display_name": "Python 3",
   "language": "python",
   "name": "python3"
  },
  "language_info": {
   "codemirror_mode": {
    "name": "ipython",
    "version": 3
   },
   "file_extension": ".py",
   "mimetype": "text/x-python",
   "name": "python",
   "nbconvert_exporter": "python",
   "pygments_lexer": "ipython3",
   "version": "3.6.5"
  }
 },
 "nbformat": 4,
 "nbformat_minor": 2
}
